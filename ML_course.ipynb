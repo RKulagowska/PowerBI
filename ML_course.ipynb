{
  "metadata": {
    "language_info": {
      "codemirror_mode": {
        "name": "python",
        "version": 3
      },
      "file_extension": ".py",
      "mimetype": "text/x-python",
      "name": "python",
      "nbconvert_exporter": "python",
      "pygments_lexer": "ipython3",
      "version": "3.8"
    },
    "kernelspec": {
      "name": "python",
      "display_name": "Python (Pyodide)",
      "language": "python"
    }
  },
  "nbformat_minor": 4,
  "nbformat": 4,
  "cells": [
    {
      "cell_type": "code",
      "source": "class Shirt:\n    def __init__(self, shirt_color, shirt_size, shirt_style, shirt_price):\n        self.color = shirt_color\n        self.size = shirt_size\n        self.style = shirt_style\n        self.price = shirt_price\n        \n    def change_price(self, new_price):\n        self.price = new_price\n        \n    def discount(self, discount):\n        return self.price * (1-discount)\n    ",
      "metadata": {
        "trusted": true
      },
      "execution_count": 2,
      "outputs": []
    },
    {
      "cell_type": "code",
      "source": "Shirt('red','S','short sleeve',15)",
      "metadata": {
        "trusted": true
      },
      "execution_count": 3,
      "outputs": [
        {
          "execution_count": 3,
          "output_type": "execute_result",
          "data": {
            "text/plain": "<__main__.Shirt at 0x2589348>"
          },
          "metadata": {}
        }
      ]
    },
    {
      "cell_type": "code",
      "source": "new_shirt = Shirt('red','S','short sleeve',15)",
      "metadata": {
        "trusted": true
      },
      "execution_count": 4,
      "outputs": []
    },
    {
      "cell_type": "code",
      "source": "print(new_shirt.size)\nprint(new_shirt.color)\nprint(new_shirt.style)\nprint(new_shirt.price)",
      "metadata": {
        "trusted": true
      },
      "execution_count": 5,
      "outputs": [
        {
          "name": "stdout",
          "text": "S\nred\nshort sleeve\n15\n",
          "output_type": "stream"
        }
      ]
    },
    {
      "cell_type": "code",
      "source": "new_shirt.change_price(10)\nprint(new_shirt.price)",
      "metadata": {
        "trusted": true
      },
      "execution_count": 6,
      "outputs": [
        {
          "name": "stdout",
          "text": "10\n",
          "output_type": "stream"
        }
      ]
    },
    {
      "cell_type": "code",
      "source": "print(new_shirt.discount(.2))",
      "metadata": {
        "trusted": true
      },
      "execution_count": 7,
      "outputs": [
        {
          "name": "stdout",
          "text": "8.0\n",
          "output_type": "stream"
        }
      ]
    },
    {
      "cell_type": "code",
      "source": "tshirt_collection = []\nshirt_1 = Shirt('orange','M','short sleeve', 25)\nshirt_2 = Shirt('red','S','short sleeve', 15)\nshirt_3 = Shirt('purple','XL','short sleeve', 10)\n\ntshirt_collection.append(shirt_1)\ntshirt_collection.append(shirt_2)\ntshirt_collection.append(shirt_3)\n\nfor i in range (len(tshirt_collection)):\n    print(tshirt_collection[i].color)",
      "metadata": {
        "trusted": true
      },
      "execution_count": 13,
      "outputs": [
        {
          "name": "stdout",
          "text": "25\n15\n10\n",
          "output_type": "stream"
        }
      ]
    },
    {
      "cell_type": "code",
      "source": "",
      "metadata": {},
      "execution_count": null,
      "outputs": []
    }
  ]
}